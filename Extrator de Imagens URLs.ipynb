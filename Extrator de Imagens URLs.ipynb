{
 "cells": [
  {
   "cell_type": "code",
   "execution_count": 1,
   "metadata": {},
   "outputs": [],
   "source": [
    "import openpyxl\n",
    "from selenium import webdriver\n",
    "from selenium.webdriver.common.by import By\n",
    "from selenium.webdriver.chrome.service import Service\n",
    "from selenium.webdriver.chrome.options import Options\n",
    "from webdriver_manager.chrome import ChromeDriverManager\n",
    "import time\n",
    "\n",
    "# Caminhos dos arquivos\n",
    "input_path = r\"C:\\Users\\drunk\\OneDrive\\MariahJoe\\Produtos.xlsx\"\n",
    "output_path = r\"C:\\Users\\drunk\\OneDrive\\MariahJoe\\Produtos_Attt.xlsx\"\n",
    "\n",
    "# Configuração do Selenium WebDriver\n",
    "chrome_options = Options()\n",
    "chrome_options.add_argument(\"--headless\")  # Executa o navegador em modo headless\n",
    "chrome_options.add_argument(\"--no-sandbox\")\n",
    "chrome_options.add_argument(\"--disable-dev-shm-usage\")\n",
    "\n",
    "# Inicializa o WebDriver\n",
    "service = Service(ChromeDriverManager().install())\n",
    "driver = webdriver.Chrome(service=service, options=chrome_options)\n",
    "\n",
    "def get_image_url(product_desc):\n",
    "    search_url = f\"https://www.google.com/search?tbm=isch&q={product_desc}\"\n",
    "    driver.get(search_url)\n",
    "    time.sleep(2)  # Espera a página carregar\n",
    "\n",
    "    try:\n",
    "        # Encontra a primeira imagem usando className e tagName\n",
    "        image_element = driver.find_element(By.CLASS_NAME, \"YQ4gaf\")\n",
    "        image_url = image_element.get_attribute(\"Src\")\n",
    "        return image_url\n",
    "    except Exception as e:\n",
    "        print(f\"Erro ao obter a URL da imagem para '{product_desc}': {e}\")\n",
    "        return None\n",
    "\n",
    "# Abre a planilha e carrega a folha ativa\n",
    "wb = openpyxl.load_workbook(input_path)\n",
    "sheet = wb.active\n",
    "\n",
    "# Adiciona uma nova coluna para as URLs das imagens\n",
    "sheet.cell(row=1, column=5).value = \"Image URL\"\n",
    "\n",
    "# Itera pelas linhas da coluna de descrição (coluna 4)\n",
    "for row in range(2, sheet.max_row + 1):\n",
    "    product_desc = sheet.cell(row=row, column=4).value\n",
    "    if product_desc:\n",
    "        image_url = get_image_url(product_desc)\n",
    "        sheet.cell(row=row, column=12).value = image_url\n",
    "\n",
    "# Salva a planilha atualizada\n",
    "wb.save(output_path)\n",
    "\n",
    "# Fecha o WebDriver\n",
    "driver.quit()\n"
   ]
  }
 ],
 "metadata": {
  "kernelspec": {
   "display_name": "Python 3",
   "language": "python",
   "name": "python3"
  },
  "language_info": {
   "codemirror_mode": {
    "name": "ipython",
    "version": 3
   },
   "file_extension": ".py",
   "mimetype": "text/x-python",
   "name": "python",
   "nbconvert_exporter": "python",
   "pygments_lexer": "ipython3",
   "version": "3.11.9"
  }
 },
 "nbformat": 4,
 "nbformat_minor": 2
}
